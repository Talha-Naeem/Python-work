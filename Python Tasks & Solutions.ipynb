{
 "cells": [
  {
   "cell_type": "code",
   "execution_count": null,
   "metadata": {},
   "outputs": [],
   "source": [
    "Q1 \"Think of at least three kinds of your favorite pizza.\"\n",
    "\"Store these pizza names in a list, and then use a for loop to print the name of each pizza.\""
   ]
  },
  {
   "cell_type": "code",
   "execution_count": 16,
   "metadata": {},
   "outputs": [],
   "source": [
    "pizo = [\"Arabian\",\"Malai\",\"Afghani\"]\n",
    "for ai in pizo:\n",
    "    print(ai)"
   ]
  },
  {
   "cell_type": "code",
   "execution_count": null,
   "metadata": {},
   "outputs": [],
   "source": [
    "Q2 \"Start with your last question , Modify your for loop to print a sentence using the name of the pizza\\n\",\n",
    "    \"instead of printing just the name of the pizza. For each pizza you should\\n\",\n",
    "    \"have one line of output containing a simple statement like I like pepperoni\\n\",\n",
    "    \"pizza.\"\n"
   ]
  },
  {
   "cell_type": "code",
   "execution_count": 22,
   "metadata": {},
   "outputs": [
    {
     "name": "stdout",
     "output_type": "stream",
     "text": [
      "I like  Pepperoni  pizza\n",
      "I like  Arabian  pizza\n",
      "I like  Malai  pizza\n",
      "I like  Afghani  pizza\n"
     ]
    }
   ],
   "source": [
    "pizo = [\"Pepperoni\",\"Arabian\",\"Malai\",\"Afghani\"]\n",
    "for ai in pizo:\n",
    "    print(\"I like \",ai,\" pizza\")"
   ]
  },
  {
   "cell_type": "code",
   "execution_count": null,
   "metadata": {},
   "outputs": [],
   "source": [
    "Q3 \"Use a for loop to print the numbers from 1 to 20,\\n\",\n",
    "    \"inclusive.\""
   ]
  },
  {
   "cell_type": "code",
   "execution_count": 24,
   "metadata": {},
   "outputs": [
    {
     "name": "stdout",
     "output_type": "stream",
     "text": [
      "1\n",
      "2\n",
      "3\n",
      "4\n",
      "5\n",
      "6\n",
      "7\n",
      "8\n",
      "9\n",
      "10\n",
      "11\n",
      "12\n",
      "13\n",
      "14\n",
      "15\n",
      "16\n",
      "17\n",
      "18\n",
      "19\n",
      "20\n"
     ]
    }
   ],
   "source": [
    "for a in range(1,21):\n",
    "    print(a)"
   ]
  },
  {
   "cell_type": "code",
   "execution_count": null,
   "metadata": {},
   "outputs": [],
   "source": [
    "Q4 \"Use the third argument of the range() function to make a list\\n\",\n",
    "    \"of the odd numbers from 1 to 20. Use a for loop to print each number.\""
   ]
  },
  {
   "cell_type": "code",
   "execution_count": 26,
   "metadata": {},
   "outputs": [
    {
     "name": "stdout",
     "output_type": "stream",
     "text": [
      "1\n",
      "3\n",
      "5\n",
      "7\n",
      "9\n",
      "11\n",
      "13\n",
      "15\n",
      "17\n",
      "19\n"
     ]
    }
   ],
   "source": [
    "for a in range(1,21,2):\n",
    "    print(a)"
   ]
  },
  {
   "cell_type": "code",
   "execution_count": null,
   "metadata": {},
   "outputs": [],
   "source": [
    "Q5 \"Make a list of the multiples of 3 from 3 to 30. Use a for loop to\\n\",\n",
    "    \"print the numbers in your list.\""
   ]
  },
  {
   "cell_type": "code",
   "execution_count": 8,
   "metadata": {},
   "outputs": [
    {
     "name": "stdout",
     "output_type": "stream",
     "text": [
      "3 x 1 = 3\n",
      "3 x 1 = 6\n",
      "3 x 1 = 9\n",
      "3 x 1 = 12\n",
      "3 x 1 = 15\n",
      "3 x 1 = 18\n",
      "3 x 1 = 21\n",
      "3 x 1 = 24\n",
      "3 x 1 = 27\n",
      "3 x 1 = 30\n"
     ]
    }
   ],
   "source": [
    "a = [3,6,9,12,15,18,21,24,27,30]\n",
    "b=3\n",
    "for t  in a:\n",
    "    print(3,\"x\",1,\"=\",t)"
   ]
  },
  {
   "cell_type": "code",
   "execution_count": null,
   "metadata": {},
   "outputs": [],
   "source": []
  }
 ],
 "metadata": {
  "kernelspec": {
   "display_name": "Python 3",
   "language": "python",
   "name": "python3"
  },
  "language_info": {
   "codemirror_mode": {
    "name": "ipython",
    "version": 3
   },
   "file_extension": ".py",
   "mimetype": "text/x-python",
   "name": "python",
   "nbconvert_exporter": "python",
   "pygments_lexer": "ipython3",
   "version": "3.8.5"
  }
 },
 "nbformat": 4,
 "nbformat_minor": 2
}
