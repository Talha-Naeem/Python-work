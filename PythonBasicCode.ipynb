{
 "cells": [
  {
   "cell_type": "code",
   "execution_count": 3,
   "metadata": {},
   "outputs": [
    {
     "data": {
      "text/plain": [
       "13"
      ]
     },
     "execution_count": 3,
     "metadata": {},
     "output_type": "execute_result"
    }
   ],
   "source": [
    "no1 = 4\n",
    "no2 = 9\n",
    "no1 + no2"
   ]
  },
  {
   "cell_type": "code",
   "execution_count": 6,
   "metadata": {},
   "outputs": [
    {
     "name": "stdout",
     "output_type": "stream",
     "text": [
      "ft@@@123@@@3.5\n"
     ]
    }
   ],
   "source": [
    "print(\"ft\" , 123 , 3.5 , sep=\"@@@\") # use python seprator"
   ]
  },
  {
   "cell_type": "code",
   "execution_count": 1,
   "metadata": {},
   "outputs": [
    {
     "name": "stdout",
     "output_type": "stream",
     "text": [
      "\tTalha\tNaeem\n"
     ]
    }
   ],
   "source": [
    "ft=\"\\tTalha\\tNaeem\"\n",
    "print(ft)"
   ]
  },
  {
   "cell_type": "code",
   "execution_count": 2,
   "metadata": {},
   "outputs": [
    {
     "name": "stdout",
     "output_type": "stream",
     "text": [
      "\tYour Name is:\n",
      "Talha\tNaeem\n"
     ]
    }
   ],
   "source": [
    "ft=\"\\tYour Name is:\\nTalha\\tNaeem\" #next line use\n",
    "print(ft)"
   ]
  },
  {
   "cell_type": "code",
   "execution_count": 3,
   "metadata": {},
   "outputs": [
    {
     "name": "stdout",
     "output_type": "stream",
     "text": [
      "Your Name is:\n",
      "Talha\tNaeem\n",
      "\tYour Name is:\n",
      "Talha\tNaeem\n",
      "Your Name is:\n",
      "Talha\tNaeem\n"
     ]
    }
   ],
   "source": [
    "print(ft.lstrip())\n",
    "print(ft.rstrip())\n",
    "print(ft.strip())    # strip function is uses for space between strings"
   ]
  },
  {
   "cell_type": "code",
   "execution_count": null,
   "metadata": {},
   "outputs": [],
   "source": []
  },
  {
   "cell_type": "code",
   "execution_count": null,
   "metadata": {},
   "outputs": [],
   "source": []
  }
 ],
 "metadata": {
  "kernelspec": {
   "display_name": "Python 3",
   "language": "python",
   "name": "python3"
  },
  "language_info": {
   "codemirror_mode": {
    "name": "ipython",
    "version": 3
   },
   "file_extension": ".py",
   "mimetype": "text/x-python",
   "name": "python",
   "nbconvert_exporter": "python",
   "pygments_lexer": "ipython3",
   "version": "3.8.5"
  }
 },
 "nbformat": 4,
 "nbformat_minor": 2
}
