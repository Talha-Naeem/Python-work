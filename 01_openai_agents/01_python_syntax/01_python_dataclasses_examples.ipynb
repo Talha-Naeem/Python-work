{
  "nbformat": 4,
  "nbformat_minor": 0,
  "metadata": {
    "colab": {
      "provenance": []
    },
    "kernelspec": {
      "name": "python3",
      "display_name": "Python 3"
    },
    "language_info": {
      "name": "python"
    }
  },
  "cells": [
    {
      "cell_type": "code",
      "execution_count": null,
      "metadata": {
        "colab": {
          "base_uri": "https://localhost:8080/"
        },
        "id": "0iWrV_uw-Ay3",
        "outputId": "0cfdd236-4567-4628-efd7-5483c408aded"
      },
      "outputs": [
        {
          "output_type": "stream",
          "name": "stdout",
          "text": [
            "=== GOOD DATACLASS EXAMPLES ===\n",
            "Person 1: Person(name='Alice', age=30, email='alice@example.com', tags=['developer'])\n",
            "Person 2: Person(name='Bob', age=25, email=None, tags=[])\n",
            "Person 3: Person(name='Charlie', age=17, email=None, tags=['student', 'part-time'])\n",
            "Is Alice an adult? True\n",
            "Is Charlie an adult? False\n",
            "\n",
            "=== BAD REGULAR CLASS EXAMPLES ===\n",
            "PersonBad 1: PersonBad(name=Alice, age=30, email=alice@example.com, tags=[])\n",
            "PersonBad 2: PersonBad(name=Bob, age=25, email=None, tags=[])\n"
          ]
        }
      ],
      "source": [
        "\"\"\"\n",
        "01_basic_dataclasses.py - Basic usage of dataclasses\n",
        "\n",
        "This file demonstrates the proper use of dataclasses for simple data structures.\n",
        "\"\"\"\n",
        "\n",
        "from dataclasses import dataclass, field\n",
        "from typing import List, Optional\n",
        "\n",
        "\n",
        "# GOOD EXAMPLE: Simple dataclass with type hints\n",
        "@dataclass\n",
        "class Person:\n",
        "    name: str\n",
        "    age: int\n",
        "    email: Optional[str] = None\n",
        "    # Using field() with default_factory for mutable default values\n",
        "    tags: List[str] = field(default_factory=list)\n",
        "\n",
        "    def is_adult(self) -> bool:\n",
        "        \"\"\"Example method that uses the dataclass attributes.\"\"\"\n",
        "        return self.age >= 18\n",
        "\n",
        "\n",
        "# Usage example\n",
        "def demo_good_usage():\n",
        "    # Creating instances\n",
        "    person1 = Person(name=\"Alice\", age=30, email=\"alice@example.com\")\n",
        "    person2 = Person(name=\"Bob\", age=25)\n",
        "    person3 = Person(name=\"Charlie\", age=17, tags=[\"student\", \"part-time\"])\n",
        "\n",
        "    # Adding to a mutable field\n",
        "    person1.tags.append(\"developer\")\n",
        "\n",
        "    # Using the built-in string representation\n",
        "    print(f\"Person 1: {person1}\")\n",
        "    print(f\"Person 2: {person2}\")\n",
        "    print(f\"Person 3: {person3}\")\n",
        "\n",
        "    # Using the instance method\n",
        "    print(f\"Is {person1.name} an adult? {person1.is_adult()}\")\n",
        "    print(f\"Is {person3.name} an adult? {person3.is_adult()}\")\n",
        "\n",
        "\n",
        "# BAD EXAMPLE: Class without dataclass\n",
        "class PersonBad:\n",
        "    def __init__(self, name, age, email=None, tags=None):\n",
        "        self.name = name\n",
        "        self.age = age\n",
        "        self.email = email\n",
        "        # Common mistake: mutable default\n",
        "        self.tags = tags if tags is not None else []\n",
        "\n",
        "    # Have to manually define string representation\n",
        "    def __repr__(self):\n",
        "        return f\"PersonBad(name={self.name}, age={self.age}, email={self.email}, tags={self.tags})\"\n",
        "\n",
        "    # Have to manually define equality\n",
        "    def __eq__(self, other):\n",
        "        if not isinstance(other, PersonBad):\n",
        "            return False\n",
        "        return (self.name == other.name and\n",
        "                self.age == other.age and\n",
        "                self.email == other.email and\n",
        "                self.tags == other.tags)\n",
        "\n",
        "\n",
        "def demo_bad_usage():\n",
        "    # More verbose and error-prone without dataclasses\n",
        "    person1 = PersonBad(\"Alice\", 30, \"alice@example.com\")\n",
        "    person2 = PersonBad(\"Bob\", 25)\n",
        "\n",
        "    print(f\"PersonBad 1: {person1}\")\n",
        "    print(f\"PersonBad 2: {person2}\")\n",
        "\n",
        "\n",
        "if __name__ == \"__main__\":\n",
        "    print(\"=== GOOD DATACLASS EXAMPLES ===\")\n",
        "    demo_good_usage()\n",
        "\n",
        "    print(\"\\n=== BAD REGULAR CLASS EXAMPLES ===\")\n",
        "    demo_bad_usage()"
      ]
    },
    {
      "cell_type": "code",
      "source": [
        "from dataclasses import dataclass,field\n",
        "from typing import Optional,List\n",
        "\n",
        "@dataclass\n",
        "class Men:\n",
        "  name:str\n",
        "  age:int\n",
        "  email:Optional[str]=None\n",
        "  tags:List[str]=field(default_factory=List)\n",
        "\n",
        "  def adult(self):\n",
        "    return f\"kl {self.name} bn {self.age}\"\n",
        "  def oldmen(self):\n",
        "    return f\"hjk {self.email}\"\n",
        "  def adultage(self)-> bool:\n",
        "    return self.age>= 18\n"
      ],
      "metadata": {
        "id": "7bXJuxSDx5yb"
      },
      "execution_count": 8,
      "outputs": []
    },
    {
      "cell_type": "code",
      "source": [
        "io = Men(\"nj\",\"89\",\"ljsddfd\",[\"fdffg\",\"cbb\"])\n",
        "print(io)\n",
        "print(io.adult())\n",
        "print(io.oldmen())"
      ],
      "metadata": {
        "id": "TawWcu332o2k",
        "outputId": "b0f8c4ed-8d26-4779-917a-af77015d20c9",
        "colab": {
          "base_uri": "https://localhost:8080/"
        }
      },
      "execution_count": 9,
      "outputs": [
        {
          "output_type": "stream",
          "name": "stdout",
          "text": [
            "Men(name='nj', age='89', email='ljsddfd', tags=['fdffg', 'cbb'])\n",
            "kl nj bn 89\n",
            "hjk ljsddfd\n"
          ]
        }
      ]
    },
    {
      "cell_type": "code",
      "source": [
        "def demo_fun():\n",
        "  person1 = Men(\"cvx\",30,\"\",[\"qwe\",\"jkl\"])\n",
        "  person2= Men(\"kfo\",22,\"kfop\",[\"zx\",\"df\"])\n",
        "  person3= Men(\"klo\",15,\"klop\",[\"zxc\",\"dfg\"])\n",
        "  print(person1)\n",
        "  print(person2)\n",
        "  print(person3)\n",
        "  print(f\"Is person1 {person1.name} adult {person1.adultage()}\")\n",
        "  print(f\"Is person1 {person2.name} adult {person3.adultage()}\")\n",
        "\n",
        "if __name__ == \"__main__\":\n",
        "  print(\"print data\")\n",
        "  demo_fun()"
      ],
      "metadata": {
        "id": "8jVZnZz5dqlP",
        "outputId": "a029b71d-ac92-446e-ea8f-d848b8d8273a",
        "colab": {
          "base_uri": "https://localhost:8080/"
        }
      },
      "execution_count": 19,
      "outputs": [
        {
          "output_type": "stream",
          "name": "stdout",
          "text": [
            "print data\n",
            "Men(name='cvx', age=30, email='', tags=['qwe', 'jkl'])\n",
            "Men(name='kfo', age=22, email='kfop', tags=['zx', 'df'])\n",
            "Men(name='klo', age=15, email='klop', tags=['zxc', 'dfg'])\n",
            "Is person1 cvx adult True\n",
            "Is person1 kfo adult False\n"
          ]
        }
      ]
    },
    {
      "cell_type": "code",
      "source": [
        "from typing_extensions import dataclass_transform\n",
        "from dataclasses import dataclass,asdict,field\n",
        "from typing import Optional,List\n",
        "\n",
        "@dataclass\n",
        "class Address:\n",
        "  street:str\n",
        "  city:str\n",
        "  state:str\n",
        "  zip_code:int\n",
        "  country:str=\"USA\"\n",
        "\n",
        "@dataclass\n",
        "class Contact:\n",
        "  email:str\n",
        "  phone:Optional[int]=None\n",
        "\n",
        "@dataclass\n",
        "class Employee:\n",
        "  id:int\n",
        "  name:str\n",
        "  department:str\n",
        "  address:Address\n",
        "  contact:Contact\n",
        "  skills:List[str]=field(default_factory=List)\n"
      ],
      "metadata": {
        "id": "LI_k6Q5kpAtr"
      },
      "execution_count": 79,
      "outputs": []
    },
    {
      "cell_type": "code",
      "source": [
        "def demo_kl():\n",
        "  address = Address(\n",
        "      street=\"123 Tech Lane\",\n",
        "      city=\"Jeddha\",\n",
        "      state=\"CA\",\n",
        "      zip_code=94100\n",
        "  )\n",
        "  contact = Contact(\n",
        "      email=\"jo.fo@example.com\",\n",
        "      phone=555789567\n",
        "  )\n",
        "  employee= Employee(\n",
        "      id=1001,\n",
        "      name=\"John Doe\",\n",
        "      department=\"Engineering\",\n",
        "      address=address,\n",
        "      contact=contact,\n",
        "      skills=[\"Python\", \"Data Science\"]\n",
        "  )\n",
        "demo_kl()"
      ],
      "metadata": {
        "id": "WQrWRyLowymO"
      },
      "execution_count": 74,
      "outputs": []
    },
    {
      "cell_type": "code",
      "source": [
        "print(Employee.id)"
      ],
      "metadata": {
        "id": "4VzV5Cgxxglg",
        "outputId": "469212cf-f6d7-47ec-8aeb-80e2317f4efe",
        "colab": {
          "base_uri": "https://localhost:8080/",
          "height": 141
        }
      },
      "execution_count": 80,
      "outputs": [
        {
          "output_type": "error",
          "ename": "AttributeError",
          "evalue": "type object 'Employee' has no attribute 'id'",
          "traceback": [
            "\u001b[0;31m---------------------------------------------------------------------------\u001b[0m",
            "\u001b[0;31mAttributeError\u001b[0m                            Traceback (most recent call last)",
            "\u001b[0;32m<ipython-input-80-9aaac016fa52>\u001b[0m in \u001b[0;36m<cell line: 0>\u001b[0;34m()\u001b[0m\n\u001b[0;32m----> 1\u001b[0;31m \u001b[0mprint\u001b[0m\u001b[0;34m(\u001b[0m\u001b[0mEmployee\u001b[0m\u001b[0;34m.\u001b[0m\u001b[0mid\u001b[0m\u001b[0;34m)\u001b[0m\u001b[0;34m\u001b[0m\u001b[0;34m\u001b[0m\u001b[0m\n\u001b[0m",
            "\u001b[0;31mAttributeError\u001b[0m: type object 'Employee' has no attribute 'id'"
          ]
        }
      ]
    },
    {
      "cell_type": "code",
      "source": [
        "if __name__ == \"__main__\":\n",
        "  print(\"cvbn\")"
      ],
      "metadata": {
        "id": "a4WQqiUk0Sc2",
        "outputId": "8b6b76af-2394-4312-f5bf-e89c49a3c64d",
        "colab": {
          "base_uri": "https://localhost:8080/"
        }
      },
      "execution_count": 78,
      "outputs": [
        {
          "output_type": "stream",
          "name": "stdout",
          "text": [
            "cvbn\n"
          ]
        }
      ]
    },
    {
      "cell_type": "code",
      "source": [
        "nm = Employee(89,\"sdf\",\"zsd\",\"asdf\",\"klo\",\"asd\",6578,Address.country,\"asd\",[\"dsdsd\"])\n",
        "print(nm)"
      ],
      "metadata": {
        "id": "JUL2rchPuk9k",
        "outputId": "907cb0f2-356c-444f-a80a-1d5442e9ee62",
        "colab": {
          "base_uri": "https://localhost:8080/",
          "height": 159
        }
      },
      "execution_count": 50,
      "outputs": [
        {
          "output_type": "error",
          "ename": "TypeError",
          "evalue": "Employee.__init__() takes from 6 to 7 positional arguments but 11 were given",
          "traceback": [
            "\u001b[0;31m---------------------------------------------------------------------------\u001b[0m",
            "\u001b[0;31mTypeError\u001b[0m                                 Traceback (most recent call last)",
            "\u001b[0;32m<ipython-input-50-2af0ea2d0a24>\u001b[0m in \u001b[0;36m<cell line: 0>\u001b[0;34m()\u001b[0m\n\u001b[0;32m----> 1\u001b[0;31m \u001b[0mnm\u001b[0m \u001b[0;34m=\u001b[0m \u001b[0mEmployee\u001b[0m\u001b[0;34m(\u001b[0m\u001b[0;36m89\u001b[0m\u001b[0;34m,\u001b[0m\u001b[0;34m\"sdf\"\u001b[0m\u001b[0;34m,\u001b[0m\u001b[0;34m\"zsd\"\u001b[0m\u001b[0;34m,\u001b[0m\u001b[0;34m\"asdf\"\u001b[0m\u001b[0;34m,\u001b[0m\u001b[0;34m\"klo\"\u001b[0m\u001b[0;34m,\u001b[0m\u001b[0;34m\"asd\"\u001b[0m\u001b[0;34m,\u001b[0m\u001b[0;36m6578\u001b[0m\u001b[0;34m,\u001b[0m\u001b[0mAddress\u001b[0m\u001b[0;34m.\u001b[0m\u001b[0mcountry\u001b[0m\u001b[0;34m,\u001b[0m\u001b[0;34m\"asd\"\u001b[0m\u001b[0;34m,\u001b[0m\u001b[0;34m[\u001b[0m\u001b[0;34m\"dsdsd\"\u001b[0m\u001b[0;34m]\u001b[0m\u001b[0;34m)\u001b[0m\u001b[0;34m\u001b[0m\u001b[0;34m\u001b[0m\u001b[0m\n\u001b[0m\u001b[1;32m      2\u001b[0m \u001b[0mprint\u001b[0m\u001b[0;34m(\u001b[0m\u001b[0mnm\u001b[0m\u001b[0;34m)\u001b[0m\u001b[0;34m\u001b[0m\u001b[0;34m\u001b[0m\u001b[0m\n",
            "\u001b[0;31mTypeError\u001b[0m: Employee.__init__() takes from 6 to 7 positional arguments but 11 were given"
          ]
        }
      ]
    },
    {
      "cell_type": "code",
      "source": [
        "\"\"\"\n",
        "02_nested_dataclasses.py - Working with nested dataclasses\n",
        "\n",
        "This file demonstrates how to properly structure and work with nested dataclasses.\n",
        "\"\"\"\n",
        "\n",
        "from dataclasses import dataclass, field, asdict\n",
        "from typing import List, Dict, Optional\n",
        "import json\n",
        "\n",
        "\n",
        "# GOOD EXAMPLE: Well-structured nested dataclasses\n",
        "@dataclass\n",
        "class Address:\n",
        "    street: str\n",
        "    city: str\n",
        "    state: str\n",
        "    zip_code: str\n",
        "    country: str = \"USA\"\n",
        "\n",
        "\n",
        "@dataclass\n",
        "class Contact:\n",
        "    email: str\n",
        "    phone: Optional[str] = None\n",
        "\n",
        "\n",
        "@dataclass\n",
        "class Employee:\n",
        "    id: int\n",
        "    name: str\n",
        "    department: str\n",
        "    # Nested dataclass as a field\n",
        "    address: Address\n",
        "    # Another nested dataclass\n",
        "    contact: Contact\n",
        "    # List of another dataclass type\n",
        "    skills: List[str] = field(default_factory=list)\n",
        "\n",
        "    def to_json(self) -> str:\n",
        "        \"\"\"Convert the employee data to JSON string.\"\"\"\n",
        "        # asdict recursively converts dataclasses to dictionaries\n",
        "        return json.dumps(asdict(self), indent=2)\n",
        "\n",
        "    def add_skill(self, skill: str) -> None:\n",
        "        \"\"\"Add a skill to the employee's skill list.\"\"\"\n",
        "        if skill not in self.skills:\n",
        "            self.skills.append(skill)\n",
        "\n",
        "\n",
        "# Usage example - Good pattern\n",
        "def demo_good_nested():\n",
        "    # Create nested dataclass instances\n",
        "    address = Address(\n",
        "        street=\"123 Tech Lane\",\n",
        "        city=\"San Francisco\",\n",
        "        state=\"CA\",\n",
        "        zip_code=\"94107\"\n",
        "    )\n",
        "\n",
        "    contact = Contact(\n",
        "        email=\"john.doe@example.com\",\n",
        "        phone=\"555-123-4567\"\n",
        "    )\n",
        "\n",
        "    # Create the parent dataclass with nested instances\n",
        "    employee = Employee(\n",
        "        id=1001,\n",
        "        name=\"John Doe\",\n",
        "        department=\"Engineering\",\n",
        "        address=address,\n",
        "        contact=contact,\n",
        "        skills=[\"Python\", \"Data Science\"]\n",
        "    )\n",
        "\n",
        "    # Access nested attributes with proper dot notation\n",
        "    print(f\"Employee: {employee.name}\")\n",
        "    print(f\"City: {employee.address.city}\")\n",
        "    print(f\"Email: {employee.contact.email}\")\n",
        "\n",
        "    # Add a skill\n",
        "    employee.add_skill(\"Machine Learning\")\n",
        "    print(f\"Skills: {employee.skills}\")\n",
        "\n",
        "    # Convert to JSON\n",
        "    print(\"\\nEmployee JSON:\")\n",
        "    print(employee.to_json())\n",
        "\n",
        "\n",
        "# BAD EXAMPLE: Poorly structured data without proper nesting\n",
        "@dataclass\n",
        "class EmployeeBad:\n",
        "    id: int\n",
        "    name: str\n",
        "    department: str\n",
        "    # Flat structure instead of proper nesting\n",
        "    street: str\n",
        "    city: str\n",
        "    state: str\n",
        "    zip_code: str\n",
        "    email: str\n",
        "    # Fields with default values must come after required fields\n",
        "    phone: Optional[str] = None\n",
        "    country: str = \"USA\"\n",
        "    skills: List[str] = field(default_factory=list)\n",
        "\n",
        "\n",
        "# Even worse example: using dictionaries instead of proper dataclasses\n",
        "class EmployeeWorse:\n",
        "    def __init__(self, id, name, department, address_dict, contact_dict, skills=None):\n",
        "        self.id = id\n",
        "        self.name = name\n",
        "        self.department = department\n",
        "        # Using dictionaries instead of proper dataclasses\n",
        "        self.address = address_dict  # {\"street\": \"...\", \"city\": \"...\", ...}\n",
        "        self.contact = contact_dict  # {\"email\": \"...\", \"phone\": \"...\"}\n",
        "        self.skills = skills or []\n",
        "\n",
        "\n",
        "def demo_bad_nested():\n",
        "    # Flat structure makes it harder to organize and maintain\n",
        "    employee_bad = EmployeeBad(\n",
        "        id=1001,\n",
        "        name=\"John Doe\",\n",
        "        department=\"Engineering\",\n",
        "        street=\"123 Tech Lane\",\n",
        "        city=\"San Francisco\",\n",
        "        state=\"CA\",\n",
        "        zip_code=\"94107\",\n",
        "        email=\"john.doe@example.com\",\n",
        "        phone=\"555-123-4567\",\n",
        "        skills=[\"Python\", \"Data Science\"]\n",
        "    )\n",
        "\n",
        "    print(\"\\n=== BAD FLAT STRUCTURE ===\")\n",
        "    print(f\"Employee: {employee_bad}\")\n",
        "\n",
        "    # Using dictionaries is even worse\n",
        "    employee_worse = EmployeeWorse(\n",
        "        id=1001,\n",
        "        name=\"John Doe\",\n",
        "        department=\"Engineering\",\n",
        "        address_dict={\n",
        "            \"street\": \"123 Tech Lane\",\n",
        "            \"city\": \"San Francisco\",\n",
        "            \"state\": \"CA\",\n",
        "            \"zip_code\": \"94107\"\n",
        "        },\n",
        "        contact_dict={\n",
        "            \"email\": \"john.doe@example.com\",\n",
        "            \"phone\": \"555-123-4567\"\n",
        "        },\n",
        "        skills=[\"Python\", \"Data Science\"]\n",
        "    )\n",
        "\n",
        "    print(\"\\n=== WORSE DICTIONARY APPROACH ===\")\n",
        "    # No nice string representation\n",
        "    print(f\"Employee: {employee_worse.__dict__}\")\n",
        "    # Error-prone access to nested data\n",
        "    print(f\"City: {employee_worse.address['city']}\")\n",
        "\n",
        "\n",
        "if __name__ == \"__main__\":\n",
        "    print(\"=== GOOD NESTED DATACLASS EXAMPLE ===\")\n",
        "    demo_good_nested()\n",
        "\n",
        "    print(\"\\n=== BAD NESTED DATACLASS EXAMPLES ===\")\n",
        "    demo_bad_nested()"
      ],
      "metadata": {
        "id": "vqT8KcAkTYzi",
        "colab": {
          "base_uri": "https://localhost:8080/"
        },
        "outputId": "a8dfd6fe-4fd0-45a0-bd05-6dd0a33b7126"
      },
      "execution_count": null,
      "outputs": [
        {
          "output_type": "stream",
          "name": "stdout",
          "text": [
            "=== GOOD NESTED DATACLASS EXAMPLE ===\n",
            "Employee: John Doe\n",
            "City: San Francisco\n",
            "Email: john.doe@example.com\n",
            "Skills: ['Python', 'Data Science', 'Machine Learning']\n",
            "\n",
            "Employee JSON:\n",
            "{\n",
            "  \"id\": 1001,\n",
            "  \"name\": \"John Doe\",\n",
            "  \"department\": \"Engineering\",\n",
            "  \"address\": {\n",
            "    \"street\": \"123 Tech Lane\",\n",
            "    \"city\": \"San Francisco\",\n",
            "    \"state\": \"CA\",\n",
            "    \"zip_code\": \"94107\",\n",
            "    \"country\": \"USA\"\n",
            "  },\n",
            "  \"contact\": {\n",
            "    \"email\": \"john.doe@example.com\",\n",
            "    \"phone\": \"555-123-4567\"\n",
            "  },\n",
            "  \"skills\": [\n",
            "    \"Python\",\n",
            "    \"Data Science\",\n",
            "    \"Machine Learning\"\n",
            "  ]\n",
            "}\n",
            "\n",
            "=== BAD NESTED DATACLASS EXAMPLES ===\n",
            "\n",
            "=== BAD FLAT STRUCTURE ===\n",
            "Employee: EmployeeBad(id=1001, name='John Doe', department='Engineering', street='123 Tech Lane', city='San Francisco', state='CA', zip_code='94107', email='john.doe@example.com', phone='555-123-4567', country='USA', skills=['Python', 'Data Science'])\n",
            "\n",
            "=== WORSE DICTIONARY APPROACH ===\n",
            "Employee: {'id': 1001, 'name': 'John Doe', 'department': 'Engineering', 'address': {'street': '123 Tech Lane', 'city': 'San Francisco', 'state': 'CA', 'zip_code': '94107'}, 'contact': {'email': 'john.doe@example.com', 'phone': '555-123-4567'}, 'skills': ['Python', 'Data Science']}\n",
            "City: San Francisco\n"
          ]
        }
      ]
    }
  ]
}