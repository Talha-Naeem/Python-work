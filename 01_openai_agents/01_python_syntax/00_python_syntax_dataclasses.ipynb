{
  "cells": [
    {
      "cell_type": "code",
      "execution_count": null,
      "metadata": {
        "id": "Tq7xqEeCdYAF"
      },
      "outputs": [],
      "source": [
        "from dataclasses import dataclass"
      ]
    },
    {
      "cell_type": "code",
      "execution_count": null,
      "metadata": {
        "id": "PnZmcPWKdjPi"
      },
      "outputs": [],
      "source": [
        "from typing import ClassVar\n",
        "\n",
        "@dataclass\n",
        "class American:\n",
        "  national_language: ClassVar[str] = \"English\"\n",
        "  national_food: ClassVar[str] = \"Hamburger\"\n",
        "  normal_body_temperature: ClassVar[float] = 98.6\n",
        "  name: str\n",
        "  age: int\n",
        "  weight: float\n",
        "  liked_food: str\n",
        "\n",
        "  def speaks(self):\n",
        "    return f\"{self.name} is speaking... {American.national_language}\"\n",
        "\n",
        "  def eats(self):\n",
        "    return f\"{self.name} is eating...\"\n",
        "\n",
        "  @staticmethod\n",
        "  def country_language():\n",
        "    return American.national_language"
      ]
    },
    {
      "cell_type": "code",
      "execution_count": null,
      "metadata": {
        "colab": {
          "base_uri": "https://localhost:8080/",
          "height": 35
        },
        "id": "JnPKuLWye_iE",
        "outputId": "ed9f4b5d-6e2c-4814-c88e-d2a0945ee843"
      },
      "outputs": [
        {
          "data": {
            "application/vnd.google.colaboratory.intrinsic+json": {
              "type": "string"
            },
            "text/plain": [
              "'English'"
            ]
          },
          "execution_count": 23,
          "metadata": {},
          "output_type": "execute_result"
        }
      ],
      "source": [
        "American.country_language()"
      ]
    },
    {
      "cell_type": "code",
      "execution_count": null,
      "metadata": {
        "colab": {
          "base_uri": "https://localhost:8080/"
        },
        "id": "cN3EJ7Hgd0_7",
        "outputId": "d4745590-2f83-4bac-fa9e-77067b587f92"
      },
      "outputs": [
        {
          "name": "stdout",
          "output_type": "stream",
          "text": [
            "John is speaking... English\n",
            "John is eating...\n"
          ]
        }
      ],
      "source": [
        "john = American(name=\"John\", age=25, weight=65, liked_food=\"P\")\n",
        "print(john.speaks())\n",
        "print(john.eats())"
      ]
    },
    {
      "cell_type": "code",
      "execution_count": null,
      "metadata": {
        "colab": {
          "base_uri": "https://localhost:8080/"
        },
        "id": "frUjWYLLfzUY",
        "outputId": "2f4808ae-6fbe-4e0d-cd13-237f7852df21"
      },
      "outputs": [
        {
          "name": "stdout",
          "output_type": "stream",
          "text": [
            "American(name='John', age=25, weight=65)\n",
            "John\n",
            "25\n",
            "65\n",
            "English\n"
          ]
        }
      ],
      "source": [
        "print(john)\n",
        "print(john.name)\n",
        "print(john.age)\n",
        "print(john.weight)\n",
        "print(American.national_language)"
      ]
    },
    {
      "cell_type": "code",
      "source": [
        "from dataclasses import dataclass\n",
        "from typing import Optional,ClassVar\n",
        "@dataclass\n",
        "class KSA:\n",
        "  national_language: ClassVar[str] = \"Arabic\"\n",
        "  national_food: ClassVar[str] = \"Meat\"\n",
        "  normal_body_temperature : ClassVar[float] = 37.5\n",
        "  name: str\n",
        "  age: int\n",
        "  weight: float\n",
        "  like_food: str\n",
        "\n",
        "  def speak(self):\n",
        "    return f\"Name: {self.name} speaks {KSA.national_language}\"\n",
        "\n",
        "  def eat(self):\n",
        "    return f\"Food {self.like_food} and gram is {self.weight}\"\n",
        "\n",
        ""
      ],
      "metadata": {
        "id": "vPa3Ig54RsMA"
      },
      "execution_count": 6,
      "outputs": []
    },
    {
      "cell_type": "code",
      "source": [
        "lang1 = KSA(name=\"fa\",age=\"24\",weight=\"68\",like_food=\"fish\")\n",
        "lang = lang1.national_food,lang1.national_language,lang1.normal_body_temperature\n",
        "lan = [lang1,lang]\n",
        "print(lan)"
      ],
      "metadata": {
        "id": "Tomnag92TAyH",
        "outputId": "45865fe6-69a2-4571-a0b8-a8430c8cc0c5",
        "colab": {
          "base_uri": "https://localhost:8080/"
        }
      },
      "execution_count": 27,
      "outputs": [
        {
          "output_type": "stream",
          "name": "stdout",
          "text": [
            "[KSA(name='fa', age='24', weight='68', like_food='fish'), ('Meat', 'Arabic', 37.5)]\n"
          ]
        }
      ]
    },
    {
      "cell_type": "code",
      "source": [
        "lang = KSA.national_language\n",
        "print(lang)"
      ],
      "metadata": {
        "id": "lUopWffUX9tC",
        "outputId": "4538d3f8-9dd4-49cd-e713-7ce3d373acf4",
        "colab": {
          "base_uri": "https://localhost:8080/"
        }
      },
      "execution_count": 3,
      "outputs": [
        {
          "output_type": "stream",
          "name": "stdout",
          "text": [
            "Arabic\n"
          ]
        }
      ]
    },
    {
      "cell_type": "code",
      "source": [
        "lang1 = KSA(\"fa\",\"24\",\"68\",\"fish\")\n",
        "print(lang1)"
      ],
      "metadata": {
        "id": "yYNjW0kfZXoC",
        "outputId": "0249df93-2ed9-4627-e8d0-a76c732b6105",
        "colab": {
          "base_uri": "https://localhost:8080/"
        }
      },
      "execution_count": 8,
      "outputs": [
        {
          "output_type": "stream",
          "name": "stdout",
          "text": [
            "KSA(name='fa', age='24', weight='68', like_food='fish')\n"
          ]
        }
      ]
    },
    {
      "cell_type": "code",
      "source": [
        "lang1 = KSA(\"fa\",\"24\",\"68\",\"fish\")\n",
        "print(lang1)"
      ],
      "metadata": {
        "id": "QzL5zNYuZpPI",
        "outputId": "c7c50c49-e0db-4f5b-9498-48f5657d3f55",
        "colab": {
          "base_uri": "https://localhost:8080/"
        }
      },
      "execution_count": 12,
      "outputs": [
        {
          "output_type": "stream",
          "name": "stdout",
          "text": [
            "KSA(name='fa', age='24', weight='68', like_food='fish')\n"
          ]
        }
      ]
    }
  ],
  "metadata": {
    "colab": {
      "provenance": []
    },
    "kernelspec": {
      "display_name": "Python 3",
      "name": "python3"
    },
    "language_info": {
      "name": "python"
    }
  },
  "nbformat": 4,
  "nbformat_minor": 0
}